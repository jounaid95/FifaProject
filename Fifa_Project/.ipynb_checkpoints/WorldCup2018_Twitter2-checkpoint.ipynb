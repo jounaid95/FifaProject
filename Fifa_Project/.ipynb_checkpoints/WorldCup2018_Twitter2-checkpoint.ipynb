{
 "cells": [
  {
   "cell_type": "code",
   "execution_count": 1,
   "metadata": {},
   "outputs": [],
   "source": [
    "import tweepy\n",
    "from tweepy import Stream\n",
    "from tweepy import OAuthHandler\n",
    "from tweepy.streaming import StreamListener\n",
    "import time\n",
    "import pandas as pd\n",
    "import numpy as np\n",
    "import datetime\n",
    "import json\n",
    "import logging"
   ]
  },
  {
   "cell_type": "code",
   "execution_count": 2,
   "metadata": {},
   "outputs": [],
   "source": [
    "#J\n",
    "consumer_key = 'awImzJ7cQtYMj5jbeeWenLe8R'\n",
    "consumer_secret = 'Rnr5qv5DRlhelrLPyF1j1AWLi5aE139k1nd074gaiiEOXiHZfi'\n",
    "access_token = '999278084774866945-KxBvG48iodCgSj5tDS1El5u7r2lAXX8'\n",
    "access_secret = 'AXGP5SHhpbJuCLVNbRU5yh6fOIwvxLTZOVdBWysWYbG6L'"
   ]
  },
  {
   "cell_type": "code",
   "execution_count": 37,
   "metadata": {},
   "outputs": [],
   "source": [
    "#J2\n",
    "cnsumer_key = 'pEKQsmgPg9YaetPhGTt7z9tw1'\n",
    "consumer_secret = 'SHHnGWYIld5eCxWWqUyq7aApedVA4dF1FjvWekbszajcc6Ubdc'\n",
    "acces_token = '999278084774866945-MjhQGh9zdokdMdCAtkegityA95eLLyt'\n",
    "acces_secret = '8AAMdWirUtvx99rM3XaeEJ3cnh2B03rvRJeMQB11H5GJc'"
   ]
  },
  {
   "cell_type": "code",
   "execution_count": 53,
   "metadata": {},
   "outputs": [],
   "source": [
    "#R\n",
    "consumer_key = 'qbKANPvBND4cDKzRy7dVv7tFM'\n",
    "consumer_secret = '9GgohQQOuujfVB90csXGHakbI4wnht09DxwqF0Tc6Qjh21U9uc'\n",
    "access_token = '999278723659632641-J2BeDRgUL6pyXgxHWA0pscDPuKLALar'\n",
    "access_secret = '7bdrHnvtEnVSXc71llbbONW8DMLmCw62Mp6FuSjk8rq3u'"
   ]
  },
  {
   "cell_type": "code",
   "execution_count": 60,
   "metadata": {},
   "outputs": [],
   "source": [
    "#R2\n",
    "consumer_key = 'lkJEhnBhutbMfUoJnH0BIQyqD'\n",
    "consumer_secret = 'v1cbGUgzUGi4q0TAiBhB53pglnJCAcVKv9T12Ftz4ANLGZdkmp'\n",
    "access_token = '999278723659632641-2mgorBfuXIXYODLzYU6fX43EfT2qFNi'\n",
    "access_secret = 'ffVohG14AR0zMrudA60S49X9Y0vZjzUUj4xMScOTmMb6B'"
   ]
  },
  {
   "cell_type": "code",
   "execution_count": 2,
   "metadata": {},
   "outputs": [],
   "source": [
    "#R3\n",
    "consumer_key = 'IYifTIDZ1tlcUu1vdPmI2wMYm'\n",
    "consumer_secret = 'QaxzTwaECgGugwFb4VHl2aGOSPDcgAo0hNVG0je3gpZ2rbsjCp'\n",
    "access_token = '999278723659632641-AEQAFJdwVVBpMa4SsXLqRN34Fud0bQJ'\n",
    "access_secret = 'KwdGZYFMRuoZ8uHlJNghqMVHscMBEaMl9k1uzlFbUxIKn'"
   ]
  },
  {
   "cell_type": "code",
   "execution_count": 3,
   "metadata": {},
   "outputs": [],
   "source": [
    "logging.basicConfig(filename=\"fifa.log\",level=logging.DEBUG,format=\"%(asctime)s | %(levelname)s | %(message)s\")"
   ]
  },
  {
   "cell_type": "code",
   "execution_count": 4,
   "metadata": {},
   "outputs": [],
   "source": [
    "class MyListener(StreamListener):\n",
    " \n",
    "    def on_data(self, data):\n",
    "        try:\n",
    "            \n",
    "            with open('WorldCup.json', 'a') as f:\n",
    "                f.write(data)\n",
    "                logging.debug(data)\n",
    "                #print(data)\n",
    "                return True\n",
    "        except BaseException as e:\n",
    "            print(\"Error on_data: %s\" % str(e))\n",
    "        return True\n",
    " \n",
    "    def on_error(self, status):\n",
    "        print(status)\n",
    "        return True"
   ]
  },
  {
   "cell_type": "code",
   "execution_count": 5,
   "metadata": {},
   "outputs": [],
   "source": [
    "auth = OAuthHandler(consumer_key, consumer_secret)\n",
    "auth.set_access_token(access_token, access_secret)"
   ]
  },
  {
   "cell_type": "code",
   "execution_count": 11,
   "metadata": {},
   "outputs": [
    {
     "name": "stderr",
     "output_type": "stream",
     "text": [
      "--- Logging error ---\n",
      "Traceback (most recent call last):\n",
      "  File \"C:\\Users\\Raouf\\AppData\\Local\\Continuum\\anaconda3\\lib\\logging\\__init__.py\", line 994, in emit\n",
      "    stream.write(msg)\n",
      "  File \"C:\\Users\\Raouf\\AppData\\Local\\Continuum\\anaconda3\\lib\\encodings\\cp1252.py\", line 19, in encode\n",
      "    return codecs.charmap_encode(input,self.errors,encoding_table)[0]\n",
      "UnicodeEncodeError: 'charmap' codec can't encode characters in position 365-370: character maps to <undefined>\n",
      "Call stack:\n",
      "  File \"C:\\Users\\Raouf\\AppData\\Local\\Continuum\\anaconda3\\lib\\runpy.py\", line 193, in _run_module_as_main\n",
      "    \"__main__\", mod_spec)\n",
      "  File \"C:\\Users\\Raouf\\AppData\\Local\\Continuum\\anaconda3\\lib\\runpy.py\", line 85, in _run_code\n",
      "    exec(code, run_globals)\n",
      "  File \"C:\\Users\\Raouf\\AppData\\Local\\Continuum\\anaconda3\\lib\\site-packages\\ipykernel_launcher.py\", line 16, in <module>\n",
      "    app.launch_new_instance()\n",
      "  File \"C:\\Users\\Raouf\\AppData\\Local\\Continuum\\anaconda3\\lib\\site-packages\\traitlets\\config\\application.py\", line 658, in launch_instance\n",
      "    app.start()\n",
      "  File \"C:\\Users\\Raouf\\AppData\\Local\\Continuum\\anaconda3\\lib\\site-packages\\ipykernel\\kernelapp.py\", line 486, in start\n",
      "    self.io_loop.start()\n",
      "  File \"C:\\Users\\Raouf\\AppData\\Local\\Continuum\\anaconda3\\lib\\site-packages\\zmq\\eventloop\\ioloop.py\", line 177, in start\n",
      "    super(ZMQIOLoop, self).start()\n",
      "  File \"C:\\Users\\Raouf\\AppData\\Local\\Continuum\\anaconda3\\lib\\site-packages\\tornado\\ioloop.py\", line 888, in start\n",
      "    handler_func(fd_obj, events)\n",
      "  File \"C:\\Users\\Raouf\\AppData\\Local\\Continuum\\anaconda3\\lib\\site-packages\\tornado\\stack_context.py\", line 277, in null_wrapper\n",
      "    return fn(*args, **kwargs)\n",
      "  File \"C:\\Users\\Raouf\\AppData\\Local\\Continuum\\anaconda3\\lib\\site-packages\\zmq\\eventloop\\zmqstream.py\", line 440, in _handle_events\n",
      "    self._handle_recv()\n",
      "  File \"C:\\Users\\Raouf\\AppData\\Local\\Continuum\\anaconda3\\lib\\site-packages\\zmq\\eventloop\\zmqstream.py\", line 472, in _handle_recv\n",
      "    self._run_callback(callback, msg)\n",
      "  File \"C:\\Users\\Raouf\\AppData\\Local\\Continuum\\anaconda3\\lib\\site-packages\\zmq\\eventloop\\zmqstream.py\", line 414, in _run_callback\n",
      "    callback(*args, **kwargs)\n",
      "  File \"C:\\Users\\Raouf\\AppData\\Local\\Continuum\\anaconda3\\lib\\site-packages\\tornado\\stack_context.py\", line 277, in null_wrapper\n",
      "    return fn(*args, **kwargs)\n",
      "  File \"C:\\Users\\Raouf\\AppData\\Local\\Continuum\\anaconda3\\lib\\site-packages\\ipykernel\\kernelbase.py\", line 283, in dispatcher\n",
      "    return self.dispatch_shell(stream, msg)\n",
      "  File \"C:\\Users\\Raouf\\AppData\\Local\\Continuum\\anaconda3\\lib\\site-packages\\ipykernel\\kernelbase.py\", line 233, in dispatch_shell\n",
      "    handler(stream, idents, msg)\n",
      "  File \"C:\\Users\\Raouf\\AppData\\Local\\Continuum\\anaconda3\\lib\\site-packages\\ipykernel\\kernelbase.py\", line 399, in execute_request\n",
      "    user_expressions, allow_stdin)\n",
      "  File \"C:\\Users\\Raouf\\AppData\\Local\\Continuum\\anaconda3\\lib\\site-packages\\ipykernel\\ipkernel.py\", line 208, in do_execute\n",
      "    res = shell.run_cell(code, store_history=store_history, silent=silent)\n",
      "  File \"C:\\Users\\Raouf\\AppData\\Local\\Continuum\\anaconda3\\lib\\site-packages\\ipykernel\\zmqshell.py\", line 537, in run_cell\n",
      "    return super(ZMQInteractiveShell, self).run_cell(*args, **kwargs)\n",
      "  File \"C:\\Users\\Raouf\\AppData\\Local\\Continuum\\anaconda3\\lib\\site-packages\\IPython\\core\\interactiveshell.py\", line 2728, in run_cell\n",
      "    interactivity=interactivity, compiler=compiler, result=result)\n",
      "  File \"C:\\Users\\Raouf\\AppData\\Local\\Continuum\\anaconda3\\lib\\site-packages\\IPython\\core\\interactiveshell.py\", line 2856, in run_ast_nodes\n",
      "    if self.run_code(code, result):\n",
      "  File \"C:\\Users\\Raouf\\AppData\\Local\\Continuum\\anaconda3\\lib\\site-packages\\IPython\\core\\interactiveshell.py\", line 2910, in run_code\n",
      "    exec(code_obj, self.user_global_ns, self.user_ns)\n",
      "  File \"<ipython-input-11-c99b67d8d296>\", line 16, in <module>\n",
      "    or geo_polygone_sotchi or geo_polygone_kaliningrad)\n",
      "  File \"C:\\Users\\Raouf\\AppData\\Local\\Continuum\\anaconda3\\lib\\site-packages\\tweepy\\streaming.py\", line 428, in filter\n",
      "    self._start(async)\n",
      "  File \"C:\\Users\\Raouf\\AppData\\Local\\Continuum\\anaconda3\\lib\\site-packages\\tweepy\\streaming.py\", line 346, in _start\n",
      "    self._run()\n",
      "  File \"C:\\Users\\Raouf\\AppData\\Local\\Continuum\\anaconda3\\lib\\site-packages\\tweepy\\streaming.py\", line 239, in _run\n",
      "    verify=self.verify)\n",
      "  File \"C:\\Users\\Raouf\\AppData\\Local\\Continuum\\anaconda3\\lib\\site-packages\\requests\\sessions.py\", line 494, in request\n",
      "    prep = self.prepare_request(req)\n",
      "  File \"C:\\Users\\Raouf\\AppData\\Local\\Continuum\\anaconda3\\lib\\site-packages\\requests\\sessions.py\", line 437, in prepare_request\n",
      "    hooks=merge_hooks(request.hooks, self.hooks),\n",
      "  File \"C:\\Users\\Raouf\\AppData\\Local\\Continuum\\anaconda3\\lib\\site-packages\\requests\\models.py\", line 309, in prepare\n",
      "    self.prepare_auth(auth, url)\n",
      "  File \"C:\\Users\\Raouf\\AppData\\Local\\Continuum\\anaconda3\\lib\\site-packages\\requests\\models.py\", line 540, in prepare_auth\n",
      "    r = auth(self)\n",
      "  File \"C:\\Users\\Raouf\\AppData\\Local\\Continuum\\anaconda3\\lib\\site-packages\\requests_oauthlib\\oauth1_auth.py\", line 80, in __call__\n",
      "    unicode(r.url), unicode(r.method), r.body or '', r.headers)\n",
      "  File \"C:\\Users\\Raouf\\AppData\\Local\\Continuum\\anaconda3\\lib\\site-packages\\oauthlib\\oauth1\\rfc5849\\__init__.py\", line 314, in sign\n",
      "    ('oauth_signature', self.get_oauth_signature(request)))\n",
      "  File \"C:\\Users\\Raouf\\AppData\\Local\\Continuum\\anaconda3\\lib\\site-packages\\oauthlib\\oauth1\\rfc5849\\__init__.py\", line 135, in get_oauth_signature\n",
      "    log.debug(\"Collected params: {0}\".format(collected_params))\n",
      "Message: \"Collected params: [('delimited', 'length'), ('oauth_nonce', '18207622034893889511528978936'), ('oauth_timestamp', '1528978936'), ('oauth_version', '1.0'), ('oauth_signature_method', 'HMAC-SHA1'), ('oauth_consumer_key', 'awImzJ7cQtYMj5jbeeWenLe8R'), ('oauth_token', '999278084774866945-KxBvG48iodCgSj5tDS1El5u7r2lAXX8'), ('track', 'футбол,ФИФА,Россия 2018,Россия2018,Кубок мира,FIFAFanFest,WM2018,Russia2018WorldCup,World Cup 2018 Russia,FIFAFanMatch,Чемпионат мира,ЧМ2018,TeamRussia,Команда Россия,Volgograd Arena,Saint Petersburg Stadium,Luzhniki Stadium,Spartek Stadium,Kazan Arena,Rostov Arena,Samara Arena,Kaliningrad Stadium,Nizhny Novgorod Stadium,Fisht Stadium,Ekaterinburg Arena,Mordovia Arena,Волгоградская Арена,Стадион Санкт-Петербурга,Стадион Лужники,Стадион Спартак,Казанская Арена,Ростовская Арена,Самарская арена,Калининградский стадион,Нижний Новгородский стадион,Фишт-стадион,Екатеринбургская арена,Мордовская арена,Coupe du Monde,Équipe,Team,Copa del Mundo,Copa do mundo,كاس العالم,جام جهانی,ワールドカップ,월드컵,#RUS,#KSA,#EGY,#URU,#POR,#ESP,#MAR,#IRN,#FRA,#AUS,#PER,#DEN,#ARG,#ISL,#CRO,#NGA,#BRA,#SUI,#CRC,#SRB,#GER,#MEX,#SWE,#KOR,#BEL,#PAN,#TUN,#ENG,#POL,#SEN,#COL,#JPN'), ('locations', '29.4980,59.7014,30.6625,60.1979')]\"\n",
      "Arguments: ()\n"
     ]
    },
    {
     "ename": "RuntimeError",
     "evalue": "No active exception to reraise",
     "output_type": "error",
     "traceback": [
      "\u001b[1;31m---------------------------------------------------------------------------\u001b[0m",
      "\u001b[1;31mRuntimeError\u001b[0m                              Traceback (most recent call last)",
      "\u001b[1;32m<ipython-input-11-c99b67d8d296>\u001b[0m in \u001b[0;36m<module>\u001b[1;34m()\u001b[0m\n\u001b[0;32m     14\u001b[0m                       \u001b[1;32mor\u001b[0m \u001b[0mgeo_polygone_kazan\u001b[0m \u001b[1;32mor\u001b[0m \u001b[0mgeo_polygone_lekaterinbourg\u001b[0m \u001b[1;32mor\u001b[0m \u001b[0mgeo_polygone_moscou\u001b[0m\u001b[1;33m\u001b[0m\u001b[0m\n\u001b[0;32m     15\u001b[0m                       \u001b[1;32mor\u001b[0m \u001b[0mgeo_polygone_nijni_novgorod\u001b[0m \u001b[1;32mor\u001b[0m \u001b[0mgeo_polygone_volgograd\u001b[0m \u001b[1;32mor\u001b[0m \u001b[0mgeo_polygone_rostov_sur_le_don\u001b[0m\u001b[1;33m\u001b[0m\u001b[0m\n\u001b[1;32m---> 16\u001b[1;33m                       or geo_polygone_sotchi or geo_polygone_kaliningrad)\n\u001b[0m",
      "\u001b[1;32m~\\AppData\\Local\\Continuum\\anaconda3\\lib\\site-packages\\tweepy\\streaming.py\u001b[0m in \u001b[0;36mfilter\u001b[1;34m(self, follow, track, async, locations, stall_warnings, languages, encoding)\u001b[0m\n\u001b[0;32m    426\u001b[0m         \u001b[0mself\u001b[0m\u001b[1;33m.\u001b[0m\u001b[0msession\u001b[0m\u001b[1;33m.\u001b[0m\u001b[0mparams\u001b[0m \u001b[1;33m=\u001b[0m \u001b[1;33m{\u001b[0m\u001b[1;34m'delimited'\u001b[0m\u001b[1;33m:\u001b[0m \u001b[1;34m'length'\u001b[0m\u001b[1;33m}\u001b[0m\u001b[1;33m\u001b[0m\u001b[0m\n\u001b[0;32m    427\u001b[0m         \u001b[0mself\u001b[0m\u001b[1;33m.\u001b[0m\u001b[0mhost\u001b[0m \u001b[1;33m=\u001b[0m \u001b[1;34m'stream.twitter.com'\u001b[0m\u001b[1;33m\u001b[0m\u001b[0m\n\u001b[1;32m--> 428\u001b[1;33m         \u001b[0mself\u001b[0m\u001b[1;33m.\u001b[0m\u001b[0m_start\u001b[0m\u001b[1;33m(\u001b[0m\u001b[0masync\u001b[0m\u001b[1;33m)\u001b[0m\u001b[1;33m\u001b[0m\u001b[0m\n\u001b[0m\u001b[0;32m    429\u001b[0m \u001b[1;33m\u001b[0m\u001b[0m\n\u001b[0;32m    430\u001b[0m     def sitestream(self, follow, stall_warnings=False,\n",
      "\u001b[1;32m~\\AppData\\Local\\Continuum\\anaconda3\\lib\\site-packages\\tweepy\\streaming.py\u001b[0m in \u001b[0;36m_start\u001b[1;34m(self, async)\u001b[0m\n\u001b[0;32m    344\u001b[0m             \u001b[0mself\u001b[0m\u001b[1;33m.\u001b[0m\u001b[0m_thread\u001b[0m\u001b[1;33m.\u001b[0m\u001b[0mstart\u001b[0m\u001b[1;33m(\u001b[0m\u001b[1;33m)\u001b[0m\u001b[1;33m\u001b[0m\u001b[0m\n\u001b[0;32m    345\u001b[0m         \u001b[1;32melse\u001b[0m\u001b[1;33m:\u001b[0m\u001b[1;33m\u001b[0m\u001b[0m\n\u001b[1;32m--> 346\u001b[1;33m             \u001b[0mself\u001b[0m\u001b[1;33m.\u001b[0m\u001b[0m_run\u001b[0m\u001b[1;33m(\u001b[0m\u001b[1;33m)\u001b[0m\u001b[1;33m\u001b[0m\u001b[0m\n\u001b[0m\u001b[0;32m    347\u001b[0m \u001b[1;33m\u001b[0m\u001b[0m\n\u001b[0;32m    348\u001b[0m     \u001b[1;32mdef\u001b[0m \u001b[0mon_closed\u001b[0m\u001b[1;33m(\u001b[0m\u001b[0mself\u001b[0m\u001b[1;33m,\u001b[0m \u001b[0mresp\u001b[0m\u001b[1;33m)\u001b[0m\u001b[1;33m:\u001b[0m\u001b[1;33m\u001b[0m\u001b[0m\n",
      "\u001b[1;32m~\\AppData\\Local\\Continuum\\anaconda3\\lib\\site-packages\\tweepy\\streaming.py\u001b[0m in \u001b[0;36m_run\u001b[1;34m(self)\u001b[0m\n\u001b[0;32m    284\u001b[0m             \u001b[1;31m# call a handler first so that the exception can be logged.\u001b[0m\u001b[1;33m\u001b[0m\u001b[1;33m\u001b[0m\u001b[0m\n\u001b[0;32m    285\u001b[0m             \u001b[0mself\u001b[0m\u001b[1;33m.\u001b[0m\u001b[0mlistener\u001b[0m\u001b[1;33m.\u001b[0m\u001b[0mon_exception\u001b[0m\u001b[1;33m(\u001b[0m\u001b[0mexception\u001b[0m\u001b[1;33m)\u001b[0m\u001b[1;33m\u001b[0m\u001b[0m\n\u001b[1;32m--> 286\u001b[1;33m             \u001b[1;32mraise\u001b[0m\u001b[1;33m\u001b[0m\u001b[0m\n\u001b[0m\u001b[0;32m    287\u001b[0m \u001b[1;33m\u001b[0m\u001b[0m\n\u001b[0;32m    288\u001b[0m     \u001b[1;32mdef\u001b[0m \u001b[0m_data\u001b[0m\u001b[1;33m(\u001b[0m\u001b[0mself\u001b[0m\u001b[1;33m,\u001b[0m \u001b[0mdata\u001b[0m\u001b[1;33m)\u001b[0m\u001b[1;33m:\u001b[0m\u001b[1;33m\u001b[0m\u001b[0m\n",
      "\u001b[1;31mRuntimeError\u001b[0m: No active exception to reraise"
     ]
    }
   ],
   "source": [
    "twitter_stream = Stream(auth, MyListener())\n",
    "twitter_stream.filter(track=[\"футбол\", \"ФИФА\", \"Россия 2018\", \"Россия2018\", \"Кубок мира\",\"FIFAFanFest\",\n",
    "                             \"WM2018\",\"Russia2018WorldCup\",\"World Cup 2018 Russia\",\n",
    "                             \"FIFAFanMatch\",\"Чемпионат мира\",\"ЧМ2018\",\"TeamRussia\",\"Команда Россия\", \"Volgograd Arena\",\n",
    "                             \"Saint Petersburg Stadium\",\"Luzhniki Stadium\",\"Spartek Stadium\",\"Kazan Arena\",\"Rostov Arena\",\n",
    "                             \"Samara Arena\",\"Kaliningrad Stadium\",\"Nizhny Novgorod Stadium\",\"Fisht Stadium\",\"Ekaterinburg Arena\",\"Mordovia Arena\",\n",
    "                             \"Волгоградская Арена\", \"Стадион Санкт-Петербурга\", \"Стадион Лужники\", \"Стадион Спартак\", \"Казанская Арена\", \"Ростовская Арена\", \n",
    "                             \"Самарская арена\", \"Калининградский стадион\", \"Нижний Новгородский стадион\", \"Фишт-стадион\", \"Екатеринбургская арена\", \"Мордовская арена\",\n",
    "                            \"Coupe du Monde\",\"Équipe\", \"Team\", \"Copa del Mundo\", \"Copa do mundo\", \"كاس العالم\", \"جام جهانی\", \"ワールドカップ\", \"월드컵\", \n",
    "                             \"#RUS\", \"#KSA\", \"#EGY\", \"#URU\", \"#POR\", \"#ESP\", \"#MAR\", \"#IRN\", \"#FRA\", \"#AUS\", \"#PER\", \"#DEN\", \"#ARG\", \"#ISL\", \"#CRO\", \n",
    "                             \"#NGA\", \"#BRA\", \"#SUI\", \"#CRC\", \"#SRB\", \"#GER\", \"#MEX\", \"#SWE\", \"#KOR\", \"#BEL\", \"#PAN\", \"#TUN\", \"#ENG\", \"#POL\", \"#SEN\", \n",
    "                             \"#COL\", \"#JPN\"],\n",
    "                      locations = geo_polygone_saint_petersbourg or geo_polygone_samara or geo_polygone_saransk \n",
    "                      or geo_polygone_kazan or geo_polygone_lekaterinbourg or geo_polygone_moscou \n",
    "                      or geo_polygone_nijni_novgorod or geo_polygone_volgograd or geo_polygone_rostov_sur_le_don \n",
    "                      or geo_polygone_sotchi or geo_polygone_kaliningrad)"
   ]
  },
  {
   "cell_type": "code",
   "execution_count": 10,
   "metadata": {
    "scrolled": true
   },
   "outputs": [
    {
     "ename": "SyntaxError",
     "evalue": "unexpected EOF while parsing (<ipython-input-10-61467596b088>, line 9)",
     "output_type": "error",
     "traceback": [
      "\u001b[1;36m  File \u001b[1;32m\"<ipython-input-10-61467596b088>\"\u001b[1;36m, line \u001b[1;32m9\u001b[0m\n\u001b[1;33m    data.append(json.loads(line)\u001b[0m\n\u001b[1;37m                                ^\u001b[0m\n\u001b[1;31mSyntaxError\u001b[0m\u001b[1;31m:\u001b[0m unexpected EOF while parsing\n"
     ]
    }
   ],
   "source": [
    "#worldcup_df = pd.read_json(\"WorldCup.json\", lines = True)\n",
    "#with open(\"WorldCup.json\",\"r\") as data:\n",
    "    #allDatas = []\n",
    "    #for line in data:\n",
    "        #allDatas.append(line)\n",
    "data = []\n",
    "with open('WorldCup.json') as f:\n",
    "    for line in f:\n",
    "        data.append(json.loads(line))"
   ]
  },
  {
   "cell_type": "code",
   "execution_count": null,
   "metadata": {},
   "outputs": [],
   "source": []
  },
  {
   "cell_type": "code",
   "execution_count": 9,
   "metadata": {},
   "outputs": [
    {
     "data": {
      "text/plain": [
       "8       [55.71570937, 37.55372107]\n",
       "170     [55.71570937, 37.55372107]\n",
       "201             [59.8944, 30.2642]\n",
       "450             [59.8944, 30.2642]\n",
       "580               [59.95, 30.3167]\n",
       "738               [59.95, 30.3167]\n",
       "807             [21.4405, 91.9889]\n",
       "866     [55.71570937, 37.55372107]\n",
       "917               [59.95, 30.3167]\n",
       "1107            [59.8944, 30.2642]\n",
       "1177    [59.98055862, 30.32673894]\n",
       "1356    [55.71570937, 37.55372107]\n",
       "1437              [59.95, 30.3167]\n",
       "1459    [59.98049584, 30.32669279]\n",
       "1657    [55.71570937, 37.55372107]\n",
       "1738     [59.9144369, 30.29624085]\n",
       "1816              [59.95, 30.3167]\n",
       "1853              [59.95, 30.3167]\n",
       "2180              [59.95, 30.3167]\n",
       "2316    [59.85219167, 30.32220556]\n",
       "2349    [59.99934512, 30.21564584]\n",
       "2645              [59.95, 30.3167]\n",
       "2649     [59.98046878, 30.3267329]\n",
       "3149              [59.95, 30.3167]\n",
       "3448              [59.95, 30.3167]\n",
       "3670              [59.95, 30.3167]\n",
       "Name: geo, dtype: object"
      ]
     },
     "execution_count": 9,
     "metadata": {},
     "output_type": "execute_result"
    }
   ],
   "source": [
    "worldcup_df[~worldcup_df['geo'].isna()]['geo'].apply(lambda c: c['coordinates'])"
   ]
  },
  {
   "cell_type": "code",
   "execution_count": 10,
   "metadata": {},
   "outputs": [
    {
     "data": {
      "text/plain": [
       "3677"
      ]
     },
     "execution_count": 10,
     "metadata": {},
     "output_type": "execute_result"
    }
   ],
   "source": [
    "len(worldcup_df)"
   ]
  },
  {
   "cell_type": "code",
   "execution_count": null,
   "metadata": {},
   "outputs": [],
   "source": []
  }
 ],
 "metadata": {
  "kernelspec": {
   "display_name": "Python 3",
   "language": "python",
   "name": "python3"
  },
  "language_info": {
   "codemirror_mode": {
    "name": "ipython",
    "version": 3
   },
   "file_extension": ".py",
   "mimetype": "text/x-python",
   "name": "python",
   "nbconvert_exporter": "python",
   "pygments_lexer": "ipython3",
   "version": "3.6.4"
  }
 },
 "nbformat": 4,
 "nbformat_minor": 2
}
