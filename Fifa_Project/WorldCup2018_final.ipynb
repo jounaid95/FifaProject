{
 "cells": [
  {
   "cell_type": "code",
   "execution_count": 58,
   "metadata": {},
   "outputs": [],
   "source": [
    "import tweepy\n",
    "from tweepy import Stream\n",
    "from tweepy import OAuthHandler\n",
    "from tweepy.streaming import StreamListener\n",
    "import time\n",
    "import pandas as pd\n",
    "import numpy as np\n",
    "import datetime\n",
    "import json\n",
    "import logging\n",
    "import nltk\n",
    "import nltk.stem\n",
    "from nltk.stem import WordNetLemmatizer\n",
    "from nltk.corpus import stopwords\n",
    "import operator\n",
    "import folium\n",
    "from folium import plugins\n",
    "import matplotlib.pyplot as plt\n",
    "import seaborn as sns\n",
    "import emoji\n",
    "import re"
   ]
  },
  {
   "cell_type": "code",
   "execution_count": 316,
   "metadata": {},
   "outputs": [],
   "source": [
    "#J\n",
    "consumer_key = 'awImzJ7cQtYMj5jbeeWenLe8R'\n",
    "consumer_secret = 'Rnr5qv5DRlhelrLPyF1j1AWLi5aE139k1nd074gaiiEOXiHZfi'\n",
    "access_token = '999278084774866945-KxBvG48iodCgSj5tDS1El5u7r2lAXX8'\n",
    "access_secret = 'AXGP5SHhpbJuCLVNbRU5yh6fOIwvxLTZOVdBWysWYbG6L'"
   ]
  },
  {
   "cell_type": "code",
   "execution_count": 37,
   "metadata": {},
   "outputs": [],
   "source": [
    "#J2\n",
    "cnsumer_key = 'pEKQsmgPg9YaetPhGTt7z9tw1'\n",
    "consumer_secret = 'SHHnGWYIld5eCxWWqUyq7aApedVA4dF1FjvWekbszajcc6Ubdc'\n",
    "acces_token = '999278084774866945-MjhQGh9zdokdMdCAtkegityA95eLLyt'\n",
    "acces_secret = '8AAMdWirUtvx99rM3XaeEJ3cnh2B03rvRJeMQB11H5GJc'"
   ]
  },
  {
   "cell_type": "code",
   "execution_count": 53,
   "metadata": {},
   "outputs": [],
   "source": [
    "#R\n",
    "consumer_key = 'qbKANPvBND4cDKzRy7dVv7tFM'\n",
    "consumer_secret = '9GgohQQOuujfVB90csXGHakbI4wnht09DxwqF0Tc6Qjh21U9uc'\n",
    "access_token = '999278723659632641-J2BeDRgUL6pyXgxHWA0pscDPuKLALar'\n",
    "access_secret = '7bdrHnvtEnVSXc71llbbONW8DMLmCw62Mp6FuSjk8rq3u'"
   ]
  },
  {
   "cell_type": "code",
   "execution_count": 60,
   "metadata": {},
   "outputs": [],
   "source": [
    "#R2\n",
    "consumer_key = 'lkJEhnBhutbMfUoJnH0BIQyqD'\n",
    "consumer_secret = 'v1cbGUgzUGi4q0TAiBhB53pglnJCAcVKv9T12Ftz4ANLGZdkmp'\n",
    "access_token = '999278723659632641-2mgorBfuXIXYODLzYU6fX43EfT2qFNi'\n",
    "access_secret = 'ffVohG14AR0zMrudA60S49X9Y0vZjzUUj4xMScOTmMb6B'"
   ]
  },
  {
   "cell_type": "code",
   "execution_count": 2,
   "metadata": {},
   "outputs": [],
   "source": [
    "#R3\n",
    "consumer_key = 'IYifTIDZ1tlcUu1vdPmI2wMYm'\n",
    "consumer_secret = 'QaxzTwaECgGugwFb4VHl2aGOSPDcgAo0hNVG0je3gpZ2rbsjCp'\n",
    "access_token = '999278723659632641-AEQAFJdwVVBpMa4SsXLqRN34Fud0bQJ'\n",
    "access_secret = 'KwdGZYFMRuoZ8uHlJNghqMVHscMBEaMl9k1uzlFbUxIKn'"
   ]
  },
  {
   "cell_type": "code",
   "execution_count": 3,
   "metadata": {},
   "outputs": [],
   "source": [
    "logging.basicConfig(filename=\"fifa.log\",level=logging.DEBUG,format=\"%(asctime)s | %(levelname)s | %(message)s\")"
   ]
  },
  {
   "cell_type": "code",
   "execution_count": 4,
   "metadata": {},
   "outputs": [],
   "source": [
    "class MyListener(StreamListener):\n",
    " \n",
    "    def on_data(self, data):\n",
    "        try:\n",
    "            \n",
    "            with open('WorldCup.json', 'a') as f:\n",
    "                f.write(data)\n",
    "                logging.debug(data)\n",
    "                #print(data)\n",
    "                return True\n",
    "        except BaseException as e:\n",
    "            print(\"Error on_data: %s\" % str(e))\n",
    "        return True\n",
    " \n",
    "    def on_error(self, status):\n",
    "        print(status)\n",
    "        return True"
   ]
  },
  {
   "cell_type": "code",
   "execution_count": 5,
   "metadata": {},
   "outputs": [],
   "source": [
    "auth = OAuthHandler(consumer_key, consumer_secret)\n",
    "auth.set_access_token(access_token, access_secret)"
   ]
  },
  {
   "cell_type": "code",
   "execution_count": 6,
   "metadata": {},
   "outputs": [],
   "source": [
    "geo_polygone_saint_petersbourg = [29.497997, 59.701434, 30.662548, 60.197935]\n",
    "geo_polygone_samara = [49.994802, 53.088547, 50.383159, 53.414352]   \n",
    "geo_polygone_saransk = [45.062645, 54.156444, 45.290509, 54.244795] \n",
    "geo_polygone_kazan = [48.849433, 55.685018, 49.284766, 55.915044] \n",
    "geo_polygone_lekaterinbourg = [60.434298, 56.675458, 60.840805, 56.940268] \n",
    "geo_polygone_moscou = [36.737227, 55.145210, 38.020595, 56.047568] \n",
    "geo_polygone_nijni_novgorod = [43.745447, 56.177553, 44.103876, 56.397831]\n",
    "geo_polygone_volgograd = [44.414738, 48.454773, 44.741175, 48.875449]\n",
    "geo_polygone_rostov_sur_le_don = [39.410991, 47.137967, 39.849071, 47.380294]\n",
    "geo_polygone_sotchi = [39.639782, 43.539785, 39.805785, 43.659389]\n",
    "geo_polygone_kaliningrad = [20.302802, 54.639647, 20.631730, 54.786058]"
   ]
  },
  {
   "cell_type": "code",
   "execution_count": null,
   "metadata": {},
   "outputs": [
    {
     "name": "stderr",
     "output_type": "stream",
     "text": [
      "--- Logging error ---\n",
      "Traceback (most recent call last):\n",
      "  File \"C:\\Users\\joudj\\Anaconda3\\lib\\logging\\__init__.py\", line 994, in emit\n",
      "    stream.write(msg)\n",
      "  File \"C:\\Users\\joudj\\Anaconda3\\lib\\encodings\\cp1252.py\", line 19, in encode\n",
      "    return codecs.charmap_encode(input,self.errors,encoding_table)[0]\n",
      "UnicodeEncodeError: 'charmap' codec can't encode characters in position 366-371: character maps to <undefined>\n",
      "Call stack:\n",
      "  File \"C:\\Users\\joudj\\Anaconda3\\lib\\runpy.py\", line 193, in _run_module_as_main\n",
      "    \"__main__\", mod_spec)\n",
      "  File \"C:\\Users\\joudj\\Anaconda3\\lib\\runpy.py\", line 85, in _run_code\n",
      "    exec(code, run_globals)\n",
      "  File \"C:\\Users\\joudj\\Anaconda3\\lib\\site-packages\\ipykernel_launcher.py\", line 16, in <module>\n",
      "    app.launch_new_instance()\n",
      "  File \"C:\\Users\\joudj\\Anaconda3\\lib\\site-packages\\traitlets\\config\\application.py\", line 658, in launch_instance\n",
      "    app.start()\n",
      "  File \"C:\\Users\\joudj\\Anaconda3\\lib\\site-packages\\ipykernel\\kernelapp.py\", line 478, in start\n",
      "    self.io_loop.start()\n",
      "  File \"C:\\Users\\joudj\\Anaconda3\\lib\\site-packages\\zmq\\eventloop\\ioloop.py\", line 177, in start\n",
      "    super(ZMQIOLoop, self).start()\n",
      "  File \"C:\\Users\\joudj\\Anaconda3\\lib\\site-packages\\tornado\\ioloop.py\", line 888, in start\n",
      "    handler_func(fd_obj, events)\n",
      "  File \"C:\\Users\\joudj\\Anaconda3\\lib\\site-packages\\tornado\\stack_context.py\", line 277, in null_wrapper\n",
      "    return fn(*args, **kwargs)\n",
      "  File \"C:\\Users\\joudj\\Anaconda3\\lib\\site-packages\\zmq\\eventloop\\zmqstream.py\", line 440, in _handle_events\n",
      "    self._handle_recv()\n",
      "  File \"C:\\Users\\joudj\\Anaconda3\\lib\\site-packages\\zmq\\eventloop\\zmqstream.py\", line 472, in _handle_recv\n",
      "    self._run_callback(callback, msg)\n",
      "  File \"C:\\Users\\joudj\\Anaconda3\\lib\\site-packages\\zmq\\eventloop\\zmqstream.py\", line 414, in _run_callback\n",
      "    callback(*args, **kwargs)\n",
      "  File \"C:\\Users\\joudj\\Anaconda3\\lib\\site-packages\\tornado\\stack_context.py\", line 277, in null_wrapper\n",
      "    return fn(*args, **kwargs)\n",
      "  File \"C:\\Users\\joudj\\Anaconda3\\lib\\site-packages\\ipykernel\\kernelbase.py\", line 283, in dispatcher\n",
      "    return self.dispatch_shell(stream, msg)\n",
      "  File \"C:\\Users\\joudj\\Anaconda3\\lib\\site-packages\\ipykernel\\kernelbase.py\", line 233, in dispatch_shell\n",
      "    handler(stream, idents, msg)\n",
      "  File \"C:\\Users\\joudj\\Anaconda3\\lib\\site-packages\\ipykernel\\kernelbase.py\", line 399, in execute_request\n",
      "    user_expressions, allow_stdin)\n",
      "  File \"C:\\Users\\joudj\\Anaconda3\\lib\\site-packages\\ipykernel\\ipkernel.py\", line 208, in do_execute\n",
      "    res = shell.run_cell(code, store_history=store_history, silent=silent)\n",
      "  File \"C:\\Users\\joudj\\Anaconda3\\lib\\site-packages\\ipykernel\\zmqshell.py\", line 537, in run_cell\n",
      "    return super(ZMQInteractiveShell, self).run_cell(*args, **kwargs)\n",
      "  File \"C:\\Users\\joudj\\Anaconda3\\lib\\site-packages\\IPython\\core\\interactiveshell.py\", line 2728, in run_cell\n",
      "    interactivity=interactivity, compiler=compiler, result=result)\n",
      "  File \"C:\\Users\\joudj\\Anaconda3\\lib\\site-packages\\IPython\\core\\interactiveshell.py\", line 2856, in run_ast_nodes\n",
      "    if self.run_code(code, result):\n",
      "  File \"C:\\Users\\joudj\\Anaconda3\\lib\\site-packages\\IPython\\core\\interactiveshell.py\", line 2910, in run_code\n",
      "    exec(code_obj, self.user_global_ns, self.user_ns)\n",
      "  File \"<ipython-input-7-644e6714ee72>\", line 8, in <module>\n",
      "    or geo_polygone_sotchi or geo_polygone_kaliningrad)\n",
      "  File \"C:\\Users\\joudj\\Anaconda3\\lib\\site-packages\\tweepy\\streaming.py\", line 450, in filter\n",
      "    self._start(async)\n",
      "  File \"C:\\Users\\joudj\\Anaconda3\\lib\\site-packages\\tweepy\\streaming.py\", line 364, in _start\n",
      "    self._run()\n",
      "  File \"C:\\Users\\joudj\\Anaconda3\\lib\\site-packages\\tweepy\\streaming.py\", line 250, in _run\n",
      "    verify=self.verify)\n",
      "  File \"C:\\Users\\joudj\\Anaconda3\\lib\\site-packages\\requests\\sessions.py\", line 494, in request\n",
      "    prep = self.prepare_request(req)\n",
      "  File \"C:\\Users\\joudj\\Anaconda3\\lib\\site-packages\\requests\\sessions.py\", line 437, in prepare_request\n",
      "    hooks=merge_hooks(request.hooks, self.hooks),\n",
      "  File \"C:\\Users\\joudj\\Anaconda3\\lib\\site-packages\\requests\\models.py\", line 309, in prepare\n",
      "    self.prepare_auth(auth, url)\n",
      "  File \"C:\\Users\\joudj\\Anaconda3\\lib\\site-packages\\requests\\models.py\", line 540, in prepare_auth\n",
      "    r = auth(self)\n",
      "  File \"C:\\Users\\joudj\\Anaconda3\\lib\\site-packages\\requests_oauthlib\\oauth1_auth.py\", line 80, in __call__\n",
      "    unicode(r.url), unicode(r.method), r.body or '', r.headers)\n",
      "  File \"C:\\Users\\joudj\\Anaconda3\\lib\\site-packages\\oauthlib\\oauth1\\rfc5849\\__init__.py\", line 314, in sign\n",
      "    ('oauth_signature', self.get_oauth_signature(request)))\n",
      "  File \"C:\\Users\\joudj\\Anaconda3\\lib\\site-packages\\oauthlib\\oauth1\\rfc5849\\__init__.py\", line 135, in get_oauth_signature\n",
      "    log.debug(\"Collected params: {0}\".format(collected_params))\n",
      "Message: \"Collected params: [('delimited', 'length'), ('oauth_nonce', '164507383559214769401528932916'), ('oauth_timestamp', '1528932916'), ('oauth_version', '1.0'), ('oauth_signature_method', 'HMAC-SHA1'), ('oauth_consumer_key', 'IYifTIDZ1tlcUu1vdPmI2wMYm'), ('oauth_token', '999278723659632641-AEQAFJdwVVBpMa4SsXLqRN34Fud0bQJ'), ('track', 'футбол,ФИФА,Россия 2018,Россия2018,Кубок мира,FIFAFanFest,WM2018,Russia2018WorldCup,World Cup 2018 Russia,World Cup Saint Petersburg,FIFAFanMatch,Чемпионат мира,ЧМ2018,TeamRussia,Команда Россия'), ('locations', '29.4980,59.7014,30.6625,60.1979')]\"\n",
      "Arguments: ()\n"
     ]
    }
   ],
   "source": [
    "twitter_stream = Stream(auth, MyListener())\n",
    "twitter_stream.filter(track=[\"футбол\", \"ФИФА\", \"Россия 2018\", \"Россия2018\", \"Кубок мира\",\"FIFAFanFest\",\n",
    "                             \"WM2018\",\"Russia2018WorldCup\",\"World Cup 2018 Russia\",\"World Cup Saint Petersburg\",\n",
    "                             \"FIFAFanMatch\",\"Чемпионат мира\",\"ЧМ2018\",\"TeamRussia\",\"Команда Россия\"],\n",
    "                      locations = geo_polygone_saint_petersbourg or geo_polygone_samara or geo_polygone_saransk \n",
    "                      or geo_polygone_kazan or geo_polygone_lekaterinbourg or geo_polygone_moscou \n",
    "                      or geo_polygone_nijni_novgorod or geo_polygone_volgograd or geo_polygone_rostov_sur_le_don \n",
    "                      or geo_polygone_sotchi or geo_polygone_kaliningrad)"
   ]
  },
  {
   "cell_type": "code",
   "execution_count": 59,
   "metadata": {
    "scrolled": true
   },
   "outputs": [],
   "source": [
    "tweets = []\n",
    "for line in open('fifa.json', 'r', encoding=\"utf8\"):\n",
    "    tweets.append(json.loads(line))"
   ]
  },
  {
   "cell_type": "code",
   "execution_count": null,
   "metadata": {},
   "outputs": [],
   "source": []
  },
  {
   "cell_type": "code",
   "execution_count": 60,
   "metadata": {},
   "outputs": [],
   "source": [
    "list_of_tweets_en = []\n",
    "list_of_tweets_es = []\n",
    "list_of_tweets_fr = []\n",
    "list_of_tweets_ru = []\n",
    "coord_en = []\n",
    "coord_es = []\n",
    "coord_fr = []\n",
    "coord_ru = []\n",
    "\n",
    "def store_lang(text_lang, text_lang2, liste, list_coord, i):\n",
    "    for x in range(i):\n",
    "        if tweets[x].get(\"lang\") == text_lang and text_lang2 :\n",
    "            liste.append([tweets[x][\"_id\"],tweets[x][\"text\"]])\n",
    "            list_coord.append(tweets[x]['geo']['coordinates'])\n",
    "            \n",
    "store_lang(\"en\",\"uk\",list_of_tweets_en,coord_en,len(tweets))\n",
    "store_lang(\"es\",\"es\",list_of_tweets_es,coord_es,len(tweets))\n",
    "store_lang(\"fr\",\"fr\",list_of_tweets_fr,coord_fr,len(tweets))\n",
    "store_lang(\"ru\",\"und\",list_of_tweets_ru,coord_ru,len(tweets))"
   ]
  },
  {
   "cell_type": "code",
   "execution_count": 61,
   "metadata": {},
   "outputs": [],
   "source": [
    "list_of_id_en = []\n",
    "list_of_id_ru = []\n",
    "list_of_id_fr = []\n",
    "list_of_id_es = []\n",
    "\n",
    "def preprocess_id(list_dep,list_arriv):\n",
    "    for ele in list_dep:\n",
    "        liste=list()\n",
    "        for i in [0]:\n",
    "            e=ele[i]\n",
    "            e = str(e)\n",
    "            e = e.split(\"'\")\n",
    "            e = e[3]\n",
    "            liste.append(e)\n",
    "        list_arriv.append(liste)\n",
    "    for e in list_arriv:\n",
    "        e = str(e)\n",
    "        e = e.replace(\"[\",\"\")\n",
    "        e = e.replace(\"]\",\"\")\n",
    "    return list_arriv"
   ]
  },
  {
   "cell_type": "code",
   "execution_count": 62,
   "metadata": {},
   "outputs": [],
   "source": [
    "list_of_id_en = preprocess_id(list_of_tweets_en,list_of_id_en)\n",
    "list_of_id_es = preprocess_id(list_of_tweets_es,list_of_id_es)\n",
    "list_of_id_fr = preprocess_id(list_of_tweets_fr,list_of_id_fr)\n",
    "list_of_id_ru = preprocess_id(list_of_tweets_ru,list_of_id_ru)"
   ]
  },
  {
   "cell_type": "code",
   "execution_count": 63,
   "metadata": {},
   "outputs": [],
   "source": [
    "list_good_id_en = []\n",
    "list_good_id_ru = []\n",
    "list_good_id_fr = []\n",
    "list_good_id_es = []\n",
    "\n",
    "def good_id(list_dep,list_arriv):\n",
    "    for e in list_dep:\n",
    "        e = str(e)\n",
    "        e = e.replace(\"[\",\"\")\n",
    "        e = e.replace(\"]\",\"\")\n",
    "        e = e.replace(\"'\",\"\")\n",
    "        list_arriv.append(e)\n",
    "    return list_arriv"
   ]
  },
  {
   "cell_type": "code",
   "execution_count": 64,
   "metadata": {},
   "outputs": [],
   "source": [
    "list_good_id_en = good_id(list_of_id_en,list_good_id_en)\n",
    "list_good_id_ru = good_id(list_of_id_ru,list_good_id_ru)"
   ]
  },
  {
   "cell_type": "code",
   "execution_count": 65,
   "metadata": {},
   "outputs": [],
   "source": [
    "list_all_tweets_en = []\n",
    "list_all_tweets_es = []\n",
    "list_all_tweets_fr = []\n",
    "list_all_tweets_ru = []\n",
    "for ele in list_of_tweets_en:\n",
    "     list_all_tweets_en.append(ele[1])\n",
    "for ele in list_of_tweets_es:\n",
    "     list_all_tweets_es.append(ele[1])\n",
    "for ele in list_of_tweets_fr:\n",
    "     list_all_tweets_fr.append(ele[1])\n",
    "for ele in list_of_tweets_ru:\n",
    "     list_all_tweets_ru.append(ele[1])"
   ]
  },
  {
   "cell_type": "code",
   "execution_count": 66,
   "metadata": {},
   "outputs": [
    {
     "data": {
      "text/plain": [
       "'So long St. Petersburg. You were grand. Now for… https://t.co/UpfQa02MHI'"
      ]
     },
     "execution_count": 66,
     "metadata": {},
     "output_type": "execute_result"
    }
   ],
   "source": [
    "list_all_tweets_en[13]"
   ]
  },
  {
   "cell_type": "code",
   "execution_count": 67,
   "metadata": {},
   "outputs": [],
   "source": [
    "def lowerword(liste):\n",
    "    low = []\n",
    "    for e in liste:\n",
    "        e = e.lower()\n",
    "        low.append(e)\n",
    "    return low"
   ]
  },
  {
   "cell_type": "code",
   "execution_count": 68,
   "metadata": {},
   "outputs": [],
   "source": [
    "list_low_en = lowerword(list_all_tweets_en)\n",
    "list_low_es = lowerword(list_all_tweets_es)\n",
    "list_low_fr = lowerword(list_all_tweets_fr)\n",
    "list_low_ru = lowerword(list_all_tweets_ru)"
   ]
  },
  {
   "cell_type": "code",
   "execution_count": null,
   "metadata": {},
   "outputs": [],
   "source": []
  },
  {
   "cell_type": "code",
   "execution_count": 69,
   "metadata": {},
   "outputs": [],
   "source": [
    "dict_en = dict(zip(list_good_id_en, list_low_en))\n",
    "dict_es = dict(zip(list_good_id_es, list_low_es))\n",
    "dict_fr = dict(zip(list_good_id_fr, list_low_fr))\n",
    "dict_ru = dict(zip(list_good_id_ru, list_low_ru))"
   ]
  },
  {
   "cell_type": "code",
   "execution_count": 70,
   "metadata": {},
   "outputs": [],
   "source": [
    "#dict_en"
   ]
  },
  {
   "cell_type": "code",
   "execution_count": 71,
   "metadata": {},
   "outputs": [],
   "source": [
    "def lemmatiz(chaine):\n",
    "    lemma = WordNetLemmatizer()\n",
    "    lem = []\n",
    "    lem2 = chaine.split(\" \")\n",
    "    for e in lem2:\n",
    "        e = e.replace(\"::\",\" \")\n",
    "        e = e.replace(\"@\",\" \")\n",
    "        e = e.replace(\":\",\" \")\n",
    "        e = e.replace(\"…\",\" \")\n",
    "        e = re.sub(\",|&|;|\\.\", \"\", e)\n",
    "        e = re.sub(\"\\'|\\’|\\”|\\“|\\—|\\/\", \" \", e)\n",
    "        e = re.sub(\"\\\"|\\»|\\«|\\]|\\[|\\:|\\#\",\"\", e)\n",
    "        e = re.sub(\"\\'m|\\'s|\\'t\", \"\", e)\n",
    "        e = re.sub(\"[0-9]\", \"\", e)\n",
    "        e = re.sub(\"\\s+\", \" \", e)\n",
    "        e = re.sub(\"http.*\",\"\",e)\n",
    "        e = re.sub(\"\\!|\\?|\\*\", \"\", e)\n",
    "        e2 = emoji.demojize(e)\n",
    "        lem.append(lemma.lemmatize(e2))\n",
    "        \n",
    "    return lem"
   ]
  },
  {
   "cell_type": "code",
   "execution_count": 72,
   "metadata": {},
   "outputs": [],
   "source": [
    "#nltk.download()"
   ]
  },
  {
   "cell_type": "code",
   "execution_count": 73,
   "metadata": {},
   "outputs": [
    {
     "data": {
      "text/plain": [
       "11322"
      ]
     },
     "execution_count": 73,
     "metadata": {},
     "output_type": "execute_result"
    }
   ],
   "source": [
    "len(list_low_en) + len(list_low_ru)"
   ]
  },
  {
   "cell_type": "code",
   "execution_count": 74,
   "metadata": {},
   "outputs": [],
   "source": [
    "stemmer_en=nltk.stem.SnowballStemmer('english')\n",
    "stemmer_fr=nltk.stem.SnowballStemmer('french')\n",
    "stemmer_es=nltk.stem.SnowballStemmer('spanish')\n",
    "stemmer_ru=nltk.stem.SnowballStemmer('russian')"
   ]
  },
  {
   "cell_type": "code",
   "execution_count": 75,
   "metadata": {},
   "outputs": [],
   "source": [
    "def delete_stw(liste,liste_stw):\n",
    "    for e in liste:\n",
    "        if e in liste_stw:\n",
    "            liste.remove(e)\n",
    "    return liste"
   ]
  },
  {
   "cell_type": "code",
   "execution_count": 76,
   "metadata": {},
   "outputs": [],
   "source": [
    "stw_en=stopwords.words('english')\n",
    "stw_fr=stopwords.words('french')\n",
    "stw_es=stopwords.words('spanish')\n",
    "stw_ru=stopwords.words('russian')\n",
    "for letter in range(97,123):\n",
    "    stw_en.append(chr(letter))\n",
    "    stw_es.append(chr(letter))\n",
    "    stw_fr.append(chr(letter))"
   ]
  },
  {
   "cell_type": "code",
   "execution_count": 77,
   "metadata": {},
   "outputs": [],
   "source": [
    "def stem_tweet(liste,stemmer):\n",
    "    return_list = []\n",
    "    for e in liste:\n",
    "        return_list.append(stemmer.stem(e))\n",
    "    return return_list"
   ]
  },
  {
   "cell_type": "code",
   "execution_count": 78,
   "metadata": {},
   "outputs": [],
   "source": [
    "#Dictionnaire anglais => sentiments : mots du champ lexical du sentiment\n",
    "dict_sentiment_en = {\"joy\" : \"😀,😁,😃,😝,😂,🤣,😊,👍,🏆,joy,standing,happiness,jubilation,cheerfulness,euphoria,rejoicing,serenity,bliss,joyfulness,exaltation,gaiety,joyful,delight,ineffable,radiant,voluptuousness,laugh,laughing,carried,hallelujah,kindness,delight,euphoric,exultation,feast,hilarity,enjoyment,cheer,joyous,applause,exult,maternity,baby,paternity,beaming,skip,buddy,friend,clamor,hold,elan,wonder,filled,frolicking,happy,peace,fullness,comfort,fills,sharing,celebration,success,heaven,blooming,enlightenment,freedom,fun,dancing,relaxation,distraction,entertainment,playfulness,fun,joviality,joyfulness,play,holiday,joke,fun,laugh,buzz,synthesizer,sing,travel,fairy,clap,victory,share,zabivaka,win,game,fest,playing,madness,phenomenal,thankful,happy,celebrate,cup,bar,win\".split(\",\"),\n",
    "                     \"hope\" : \"🙏,forgive,pray,optimistic,positivity,positive,confidence,future,recklessness,idealism,realism,happiness,joy,intelligence,vitality,progress,calm,confident,believe,dynamic,caring,perseverance,comfortable,relaxation,euphoria,optimum,option,possible,relief,forgetfulness,abstraction,relax,want,hope,power,success,opportunity,future,innovation,perfect,confident,enthusiastic,ambition,mad,vain,wait,release,glow,courage,best,victory,desire,give,wish,return,last,time,resigned,disillusionment,concerns,reborn,dreams,faith,injury,perspective,podium,talent,purpose,confidence,healing,give,season,decisive,selected,luck,caress,conciliation,keeper,unwavering,find,save,time,life,winning,resurrect,aspiration,assurance,consolation,belief,creed,time,delivery,flattering,pause,forecast,next,project,promise,expectation,illusion,pandora,life,mercy,promise,probability,certainty,desire,gain,flag,god,light,vain,progress,belief,lure,omen,presumption,grief,enthusiasm,patient,consolation,fullness,insurance,consoling,commitment,reliability,infant,intuition,forecast,project,feeling,safety,wishes,bless,fans,ahead\".split(\",\"),\n",
    "                     \"love\" :  \"😍',❤️,💘,💕,😘,😗,remarkable,friendship,teammate,affection,passion,love,kiss,commitment,beauty,compassion,attraction,happiness,pleasure,heart,romantic,worship,singing,fraternal,heartfelt,devotion,god,fidelity,flame,altruism,soul,sorrow,song,wife,husband,affair,loyalty,sacrifice,friendly,juliet,ideal,friends,amor,hug,girl,madly,mother,mum,admiration,generosity,respect,statement,fervor,infinite,beautiful,son,adorable,dedication,consumer,fusion,sister,ange,express,child,exaltation,wonderful,unite,madly,passion,mutual,passion,frenzy,delirium,passion,spectacular,addiction,hobbies,enthusiasm,emotion,inclination,fire,romantic,magnificent,excess,fire,mystery,passion,photography,poetry,enthusiastic,flame,sensual,delusion,crush,spirit,enthusiasm,insatiable,leisure,nativity,relationship,gardening,dedication,warmth,exalted,fury,youth,sensual,fiery,heart,wild,devotion,exhilarating,female,flatter,frantic,shameful,business,budding,meet,spend,destructive,unconsciousness,sublime,bigotry,love,soul,appetite,burning,flesh,consume,devour,player,sudden,life,choral,conviction,passion,desire,instinct,hobby,sentimental,talented,bright,collect,daydreaming,fanatical,adoration,affection,panic,agitation,overflow,momentum,excitement,enthusiasm,ecstasy,fever,obstinacy\".split(\",\"),\n",
    "                     \"sadness\" : \"💧,😿,🙀,😫,😨,😲,😞,😩,😢,😪,😷,😭,💔,😦,sadness,trouble,goodbye,melancholy,grief,mourning,despair,nostalgia,disgust,pain,tear,sad,bitterness,discouragement,loneliness,sadness,melancholy,depression,affliction,lassitude,desolation,misfortune,languor,resignation,cockroach,despondency,regret,crying,bitter,worry,compassion,consolation,rancor,spree,deep,acedial,blues,glaucous,farewell,tearing,despite,disgust,overwhelmed,shot,lament,gloomy,cloud,aggression,anguish,boredom,disappointment,despair,disgruntled,displeasure,fatigue,frustration,gloomy,grief,loneliness,miserable,unhappiness,painful,despair,collapsed,inconsolable,indefinable,evil,misanthropy,misery,poverty,laziness,isolation,malaise,moral,rancor,despondency,sadness,boredom,dreadfulness,dreariness,embarrassment,festering,greed,hypochondria,unspeakable,dreary,monotonous,recollection,stunner,torment,uniformity,suicide,poor,homeless,cemetery,creeping,grievousness,grievous,old,age,shabby,pity,pessimistic,pessimism,will,defeatism,melancholy,skepticism,bitter,morbid,philosophical,resignation,subjective,bitterness,disgust,fatalism,romanticism,symbolism,conception,romantic,suicide,individualism,denouement,renunciation,negative,decadence,alarmism,catastrophism,disbelief,disquiet,neurasthenia,nostalgia,worry,tracassin,tragic,misery,unemployment,suicide,poor,dead,death,cemetery,tears,injustice,shabby,pitiful,pity,sick,lose\".split(\",\"),\n",
    "                     \"anger\" : \"😠,😤,👎,🖕,😡,💢,🔴,👊,❗,💀,😒,fussing,cussing,nagging,skull,indignation,rage,irritation,choleric,resentment,fury,hate,anger,rancor,revenge,fury,ire,wrath,frustration,pride,despite,exasperation,furious,annoyance,revolt,fury,enmity,contempt,rancor,despondency,angry,disgust,irascibility,expletive,bitterness,aggression,impatience,threat,animosity,explosion,humiliation,violence,anger,desperation,violent,blast,avenge,stumbles,amazement,aggression,manifesting,guilt,lock,elimination,injustice,irascible,chastise,madness,dejure,incite,excite,thunder,fulminant,irritate,master,shit,deaf,rager,affront,annoyance,bubble,seizure,unleashing,irritability,irritant,outraged,repressed,vehement,acceptance,disarm,spill,pour,out,howl,impulse,indignation,exit,terrible,hostility,avenger,beating,dishonesty,end,disgrace,evil,fear,insulted,insulting,offense,overt,punish,outrage,sin,sting,greed,burning,anger,bewilderment,erupting,fever,quivering,frenzy,harassment,intemperance,intensity,interjection,malevolence,club,threatening,firecracker,provoked,spiteful,tension,violent,snarling,threatening,punk,assault,combative,hateful,provocative,aggressively,hostile,conqueror,haughty,insolent,intolerant,intruder,tone,passive,sarcastic,brutal,adversary,temperament,pitbull,bellicose,nagging,catchy,acerbic,eager,sour,brawler,battler,angry,belligerent,beatificer,quarrelsome,contentious,cruel,dangerous,dangerous,fight,fighter,frustrated,furious,irate,insecure,impetuous,irascible,malicious,martial,offending,offensive,provoking,pugnacious,raging\".split(\",\"),\n",
    "                     \"neutral\":\"\",\n",
    "                     \"joy/hope\":\"\",\n",
    "                     \"love/sadness\":\"\"\n",
    "                    }"
   ]
  },
  {
   "cell_type": "code",
   "execution_count": 79,
   "metadata": {},
   "outputs": [],
   "source": [
    "dict_sentiment_ru = {\"joy\": \"😀,😁,😃,😝,😂,🤣,😊,👍,🏆,радость,стоя,счастье,ликование,бодрость,эйфория,радость,безмятежность,блаженство,радость,восторг,веселье,радость,восторг,невыразимый,сияющий,сладострастный,смех,смех,несут,аллилуйя,доброта,восторг,эйфория,ликование,праздник,веселье,наслаждение,радость,радостная,аплодисменты,радуйтесь,материнство,ребенок,отцовство,сияя,пропустить,приятель,друг,шумиха,держать,порыв,удивление,наполненная,резвился,счастливая,мир,полнота,комфорт,заливки,обмен,праздник,успех,небо,цветущий,просветление,свобода,веселье,танцы,отдых,отвлечение,развлечение,игривость,веселье,веселость,радость,игры,праздник,шутки,веселье,смех,шум,синтезатор,петь,путешествия,фея,хлоп,победа,обмен zabivaka,выигрыш,игра,праздник,игры,безумие,феноменальное,благодарным,счастливый,праздновать,чашки,бар,выиграть\".split(\",\"),\n",
    "                     \"hope\": \"🙏,простите,молитесь,оптимистичны,позитивны,позитивны,уверенность,будущее,безрассудство,идеализм,реализм,счастье,радость,интеллект,жизненность,прогресс,спокойствие,уверенность,вера,динамичность,забота,настойчивость,эйфория,оптимальный,вариант,возможно,рельеф,забывчивость,абстракция,расслабиться,хотите,надежда,власть,успех,возможность,будущее,инновации,совершенный,уверенный в себе,энтузиазм,амбиции,ума,напрасно,подожди,релиз,свечение,мужество,лучше всего,победа,желание отдавать,желание,возвращение,последнее,время,ушел в отставку,разочарование,беспокойство,возродиться,мечты,вера,травмы,перспективы,подиума,талант,цель,уверенность в себе,исцеление,дать,сезон,решающий,выбранный,удачи,ласка,соглашательство,хранитель,непоколебимое,найти,сохранить,время,жизнь,победы,воскресить,стремление,уверенность,утешение,веру,вероисповедание,время доставки,лестно,паузу,прогноз,следующее,проект,обещание,ожидание,иллюзия,бандура,жизнь,милость,обещание,вероятность,уверенность,желание,усиление,флаг,бог,свет,напрасно,прогресс,вера,прикорм,примета,презумпция,печаль,энтузиазм,терпеливая,утешу,полнота,страхование,кон Солинг,целеустремленность,надежность,младенец,интуиция,прогноз,проект,чувство,безопасность,пожелание,благословите,вентиляторы,вперед\".split (\",\"),\n",
    "                     \"love\": \"😍',❤️,💘,💕,😘,😗,замечательная дружба,товарищ по команде,привязанность,страсть,любовь,поцелуй,преданность,красота,сострадание,притяжение,счастье,удовольствие,сердце,романтика,поклонение,пение,братство,сердечный,преданность,бог,верность,пламя,альтруизм,душа,печаль,песня,жена,муж,дело,верность,жертвенность,дружелюбный,Juliet,идеал,друзья,амор,объятие,девушка,безумно,мама,восхищение,щедрость,уважение,утверждение,задор,бесконечные,красивый,сын,очаровательны,преданность,потребитель,слияние,сестра,ребенок,возвышение,замечательный,объединиться,безумно,страсть,взаимность,страсть,безумие,бред,страсть,зрелищные,наркомания,увлечения,энтузиазм,эмоция,склонность,огонь,романтичный,великолепный,избыток,огонь,тайна,страсть,фотография,поэзия,энтузиазм,пламя,чувственность,заблуждение,сокрушение,дух,энтузиазм,ненасытный,досуг,любовь,отношения,садоводство,преданность,теплота,возвышенность ярость,молодость,чувственный,огненный,сердце,дикая,преданность,волнующий,женщина,льстит,неистово,постыдно,дело,почтятся,встречаются,тратят,разрушают,un сознание,возвышенное,фанатизм,любовь,душа,аппетит,горящая плоть,употребление,пожирание,игрок,внезапный,жизнь,хоровой,верховая езда,убеждение,страсть,желание,инстинкт,хобби,сентиментальный,талантливый,яркий,собирают,мечтание,фанатическое обожание,привязанность,паника,волнение,переполнение,импульс,волнение,энтузиазм,экстаз,лихорадка,упрямство\".split (\",\"),\n",
    "                     \"sadness\": \"💧,😿,🙀,😫,😨,😲,😞,😩,😢,😪,😷,😭,💔,😦,печаль,беда,до свидания,грусть,горе,траур,отчаяние,ностальгия,отвращение,боль,слеза,грусть,горечь,разочарование,одиночество,грусть,меланхолия,депрессия,скорбь,усталость,запустение,несчастье,отставка,таракан,уныние,сожаление,плач,горькая,беспокойство,сострадание,утешение,злопамятность,гулянки,глубокий,блюз,сизо,прощайте,слезотечение,несмотря на,отвращение,подавленная,выстрел,плач,мрачное,облако,агрессия,тоска,скука,разочарование,отчаяние,недовольная,неудовольствие,усталость,разочарование,мрачное,печаль,одиночество,несчастное,несчастье,болезненное,отчаяние,разрушился,безутешное,неопределимое,зло,мизантропия,нищета,бедность,леность,изоляция,общее недомогание,нравственные,злоба,уныние,печаль,скука, dreadfulness,скука,смущение,гнойный,жадность,ипохондрия,невыразимое,тоскливое,монотонное,вспоминание,парализатор,мучение,однородность,самоубийство,плохое,бездомного,кладбище,ползучая,лютость,тяжелы,старый,возраст,убого,жалко,пессимистический,пессимизм,будет,пораженчество,меланхолия,скептицизм,горький,болезненный,отставка,субъективная,горечь,отвращение,фатализм,романтизм,символизм,концепция,романтик,самоубийство,индивидуализм,Развязка,отречение,негатив,декаданс,панический,катастрофизм,неверие,беспокойство,неврастения,ностальгия,беспокойство,трагический,нищета,безработица,суицид,бедный,мертвый,смерть,кладбище,слезы,несправедливость,потертый,жалкий,жаль,больной,потерять\".split (\",\"),\n",
    "                     \"anger\": \"😠,😤,👎,🖕,😡,💢,🔴,👊,❗,💀,😒,суетливость,ругательство,ворчание,череп,негодование,ярость,раздражение,холерик,негодование,ярость,ненависть,гнев,злоба,месть,ярость,гнев,гнев,разочарование,гордость,несмотря на раздражение,ярость,досаду бунт,ярость,враждебность,презрение,злоба,уныние,гнев,отвращение,вспыльчивость,ругательство,горечь,агрессивность,нетерпеливость,угрозы,враждебность,взрыв,унижение,насилие,гнев,отчаяние,насилие,взрыв,мстить,спотыкается,изумление,агрессия,проявление,чувство вины,замок,ликвидация,несправедливость,вспыльчивая,наказав,безумие,де-юру,подстрекать,возбуждает,гром,молниеносный,раздражает,мастер,дерьмо,глухой,яростень,оскорбление,раздражение,пузырь,захват,развязывание,раздражительность,раздражающая,возмущенное,репрессировано,неистовое,принятие,разоружить,разлив,влить,из,выть,импульс,возмущение,выход,страшное,враждебность,мститель,избивая,нечестность,конец,позор,зло,страх,оскорблял,оскорбление,преступление,откровенная,наказывает,безобразие,грех,жало,жадность,жжение,гнев,недоумение,извержение,лихорадка,трепетное,безумие,домогательство,невоздержанность,интенсивность,междометие,недоброжелательность,клуб,угрожающая,firecr Акер,раздражается,злобный,напряжение,насилие,рыча,угрожающим,панк,нападение,воинственный,ненависть,провокационные,агрессивно,враждебно,завоеватель,высокомерный,наглый,нетерпимым,взломщик,тон,пассивный,саркастический,брутальный,состязательный,темперамент,питбуль,воинственная,нытье,броский,едкий,нетерпеливый,кислый,буян,боец,гнев,воинственный,неуживчивый,сварливый,жестокий,опасный,опасный,бой,боец,разочарование,ярость,разгневанный,небезопасный,порывистый,вспыльчивая,злой,воинственный,обижая,наступление,провоцируя,драчливый,бушует\".split (\",\"),\n",
    "                     \"neutral\":\"\",\n",
    "                     \"joy/hope\":\"\",\n",
    "                     \"love/sadness\":\"\"\n",
    "                    }"
   ]
  },
  {
   "cell_type": "code",
   "execution_count": 80,
   "metadata": {},
   "outputs": [],
   "source": [
    "#Input: Dictionnaire de champ lexicaux à stemmatiser. \n",
    "#Output: Dictionnaire dict_sentiment_stem ou l'on a pris la racine des mots de dict_sentiment\n",
    "def stem_lexical(dic,stemmer):  \n",
    "    dict_sentiment_stem = {\"joy\":\"\",\"hope\":\"\",\"love\":\"\",\"sadness\":\"\",\"anger\":\"\",\"neutral\":\"\",\"joy/hope\":\"\",\"love/sadness\":\"\"}\n",
    "    for keys in dic:\n",
    "        liste = []\n",
    "        for values in dic[keys]:\n",
    "            values2 = emoji.demojize(values)\n",
    "            liste.append(stemmer.stem(values2))\n",
    "        dict_sentiment_stem[keys] = set(liste)\n",
    "    return dict_sentiment_stem"
   ]
  },
  {
   "cell_type": "code",
   "execution_count": 81,
   "metadata": {},
   "outputs": [],
   "source": [
    "dict_sentiment_en_stem=stem_lexical(dict_sentiment_en,stemmer_en)\n",
    "dict_sentiment_ru_stem=stem_lexical(dict_sentiment_ru,stemmer_ru)"
   ]
  },
  {
   "cell_type": "code",
   "execution_count": 82,
   "metadata": {},
   "outputs": [],
   "source": [
    "#dict_sentiment_en_stem"
   ]
  },
  {
   "cell_type": "code",
   "execution_count": 83,
   "metadata": {},
   "outputs": [],
   "source": [
    "def length_lexical_word(lang,dico_stem):\n",
    "    print(\"\\nLongueur des champs lexicaux \"+lang)\n",
    "    for k in dico_stem:\n",
    "        print(k+\": \"+str(len(dico_stem[k])))"
   ]
  },
  {
   "cell_type": "code",
   "execution_count": 84,
   "metadata": {},
   "outputs": [
    {
     "name": "stdout",
     "output_type": "stream",
     "text": [
      "\n",
      "Longueur des champs lexicaux english\n",
      "joy: 83\n",
      "hope: 116\n",
      "love: 133\n",
      "sadness: 129\n",
      "anger: 157\n",
      "neutral: 0\n",
      "joy/hope: 0\n",
      "love/sadness: 0\n",
      "\n",
      "Longueur des champs lexicaux russian\n",
      "joy: 78\n",
      "hope: 113\n",
      "love: 126\n",
      "sadness: 128\n",
      "anger: 144\n",
      "neutral: 0\n",
      "joy/hope: 0\n",
      "love/sadness: 0\n"
     ]
    }
   ],
   "source": [
    "length_lexical_word(\"english\",dict_sentiment_en_stem)\n",
    "length_lexical_word(\"russian\",dict_sentiment_ru_stem)"
   ]
  },
  {
   "cell_type": "code",
   "execution_count": null,
   "metadata": {},
   "outputs": [],
   "source": []
  },
  {
   "cell_type": "code",
   "execution_count": 85,
   "metadata": {},
   "outputs": [],
   "source": [
    "def count(tweet, dic_sent):\n",
    "    dico = {\"joy\":0,\"hope\":0,\"love\":0,\"sadness\":0,\"anger\":0,\"neutral\":0,\"joy/hope\":0,\"love/sadness\":0}\n",
    "    for key in dico:\n",
    "        for mot in tweet:\n",
    "            if mot in dic_sent[key]:\n",
    "                dico[key]+=1\n",
    "    if (dico[\"joy\"] == 0 and dico[\"hope\"]  == 0 and dico[\"love\"] == 0 and dico[\"sadness\"] == 0 and dico[\"anger\"]== 0 ):\n",
    "        dico[\"neutral\"] +=10\n",
    "    if (dico[\"joy\"] == dico[\"hope\"]):\n",
    "        dico[\"joy/hope\"] = dico[\"joy\"]+dico[\"hope\"]\n",
    "    if (dico[\"sadness\"] == dico[\"love\"]):\n",
    "        dico[\"love/sadness\"] = dico[\"love\"]+dico[\"sadness\"]\n",
    "    return dico\n",
    "\n",
    "#Input: tweet à prédire\n",
    "#Output: résultat de count(tweet stemmatisée,dic,stopwords)\n",
    "def predict_sentiment(tweet0, dic,stopwords,stemmer):\n",
    "    a = lemmatiz(tweet0)\n",
    "    liste = delete_stw(a,stopwords)\n",
    "    a = stem_tweet(a,stemmer)\n",
    "    return count(a,dic)"
   ]
  },
  {
   "cell_type": "code",
   "execution_count": null,
   "metadata": {},
   "outputs": [],
   "source": []
  },
  {
   "cell_type": "code",
   "execution_count": 86,
   "metadata": {},
   "outputs": [
    {
     "name": "stdout",
     "output_type": "stream",
     "text": [
      "the activist kiril kotov was arrested for 15 days for picketing against world cup 2018 https://t.co/77mvunskri via… https://t.co/dfkwekquga\n"
     ]
    },
    {
     "data": {
      "text/plain": [
       "{'anger': 0,\n",
       " 'hope': 0,\n",
       " 'joy': 1,\n",
       " 'joy/hope': 0,\n",
       " 'love': 0,\n",
       " 'love/sadness': 0,\n",
       " 'neutral': 0,\n",
       " 'sadness': 0}"
      ]
     },
     "execution_count": 86,
     "metadata": {},
     "output_type": "execute_result"
    }
   ],
   "source": [
    "tweet_pred=list_low_en[1]\n",
    "print(tweet_pred)\n",
    "senti=predict_sentiment(tweet_pred, dict_sentiment_en_stem,stw_en,stemmer_en)\n",
    "senti"
   ]
  },
  {
   "cell_type": "code",
   "execution_count": 87,
   "metadata": {},
   "outputs": [
    {
     "name": "stdout",
     "output_type": "stream",
     "text": [
      "открываем чемпионат мира держитесь (@ лига ставок(московский)) https://t.co/yf3mk1djwn\n"
     ]
    },
    {
     "data": {
      "text/plain": [
       "{'anger': 0,\n",
       " 'hope': 0,\n",
       " 'joy': 1,\n",
       " 'joy/hope': 0,\n",
       " 'love': 0,\n",
       " 'love/sadness': 0,\n",
       " 'neutral': 0,\n",
       " 'sadness': 0}"
      ]
     },
     "execution_count": 87,
     "metadata": {},
     "output_type": "execute_result"
    }
   ],
   "source": [
    "tweet_pred=list_low_ru[1]\n",
    "print(tweet_pred)\n",
    "senti_ru=predict_sentiment(tweet_pred, dict_sentiment_ru_stem,stw_ru,stemmer_ru)\n",
    "senti_ru"
   ]
  },
  {
   "cell_type": "code",
   "execution_count": 88,
   "metadata": {},
   "outputs": [
    {
     "name": "stdout",
     "output_type": "stream",
     "text": [
      "joy: 714\n",
      "hope: 151\n",
      "love: 120\n",
      "sadness: 66\n",
      "anger: 23\n",
      "neutral: 1220\n",
      "joy/hope: 68\n",
      "love/sadness: 3\n"
     ]
    }
   ],
   "source": [
    "#Code test, prédit toutes les tweets dans list_low_en\n",
    "#Output: Dictionnaire => sentiment : ids des tweets qui ont ce sentiment\n",
    "\n",
    "dico_test = {\"joy\":[],\"hope\":[],\"love\":[],\"sadness\":[],\"anger\":[],\"neutral\":[],\"joy/hope\":[],\"love/sadness\":[]}\n",
    "\n",
    "for i in range(0,len(list_low_en)):\n",
    "    tweet_pred=list_low_en[i]\n",
    "    senti_en=predict_sentiment(tweet_pred, dict_sentiment_en_stem,stw_en,stemmer_en)\n",
    "    dico_test[max(senti_en.items(), key=operator.itemgetter(1))[0]].append(i)\n",
    "    #Affiche pour chaque sentiment le nombre de tweets qui ont ce sentiment\n",
    "for k in dico_test:\n",
    "    print(k+\": \"+str(len(dico_test[k])))"
   ]
  },
  {
   "cell_type": "code",
   "execution_count": 89,
   "metadata": {},
   "outputs": [
    {
     "name": "stdout",
     "output_type": "stream",
     "text": [
      "joy: 752\n",
      "hope: 399\n",
      "love: 378\n",
      "sadness: 88\n",
      "anger: 93\n",
      "neutral: 7077\n",
      "joy/hope: 162\n",
      "love/sadness: 8\n"
     ]
    }
   ],
   "source": [
    "#Code test, prédit toutes les tweets dans list_low_en\n",
    "#Output: Dictionnaire => sentiment : ids des tweets qui ont ce sentiment\n",
    "\n",
    "dico_test = {\"joy\":[],\"hope\":[],\"love\":[],\"sadness\":[],\"anger\":[],\"neutral\":[],\"joy/hope\":[],\"love/sadness\":[]}\n",
    "\n",
    "for i in range(0,len(list_low_ru)):\n",
    "    tweet_pred=list_low_ru[i]\n",
    "    senti_ru=predict_sentiment(tweet_pred, dict_sentiment_ru_stem,stw_ru,stemmer_ru)\n",
    "    dico_test[max(senti_ru.items(), key=operator.itemgetter(1))[0]].append(i)\n",
    "    #Affiche pour chaque sentiment le nombre de tweets qui ont ce sentiment\n",
    "for k in dico_test:\n",
    "    print(k+\": \"+str(len(dico_test[k])))"
   ]
  },
  {
   "cell_type": "code",
   "execution_count": 90,
   "metadata": {},
   "outputs": [],
   "source": [
    "i = 0"
   ]
  },
  {
   "cell_type": "code",
   "execution_count": 91,
   "metadata": {},
   "outputs": [
    {
     "name": "stdout",
     "output_type": "stream",
     "text": [
      "standing up @ saint petersburg, russia https://t.co/u9y7anqw9v\n",
      "\n",
      "principal sentiment: joy\n",
      "{'joy': 1, 'hope': 0, 'love': 0, 'sadness': 0, 'anger': 0, 'neutral': 0, 'joy/hope': 0, 'love/sadness': 0}\n",
      "0\n"
     ]
    }
   ],
   "source": [
    "#Affiche le tweet et le sentiment associé\n",
    "tweet_pred_en=list_low_en[i]\n",
    "print(str(tweet_pred_en)+\"\\n\")\n",
    "senti_en=predict_sentiment(tweet_pred_en, dict_sentiment_en_stem,stw_en,stemmer_en)\n",
    "print(\"principal sentiment: \"+max(senti_en.items(), key=operator.itemgetter(1))[0])\n",
    "print(senti_en)\n",
    "print(i)\n",
    "i+=1"
   ]
  },
  {
   "cell_type": "code",
   "execution_count": 92,
   "metadata": {},
   "outputs": [
    {
     "name": "stdout",
     "output_type": "stream",
     "text": [
      "открываем чемпионат мира держитесь (@ лига ставок(московский)) https://t.co/yf3mk1djwn\n",
      "\n",
      "principal sentiment: joy\n",
      "{'joy': 1, 'hope': 0, 'love': 0, 'sadness': 0, 'anger': 0, 'neutral': 0, 'joy/hope': 0, 'love/sadness': 0}\n",
      "1\n"
     ]
    }
   ],
   "source": [
    "#Affiche le tweet et le sentiment associé\n",
    "tweet_pred_ru=list_low_ru[i]\n",
    "print(str(tweet_pred_ru)+\"\\n\")\n",
    "senti_ru=predict_sentiment(tweet_pred_ru, dict_sentiment_ru_stem,stw_ru,stemmer_ru)\n",
    "print(\"principal sentiment: \"+max(senti_ru.items(), key=operator.itemgetter(1))[0])\n",
    "print(senti_ru)\n",
    "print(i)\n",
    "i+=1"
   ]
  },
  {
   "cell_type": "code",
   "execution_count": 93,
   "metadata": {},
   "outputs": [],
   "source": [
    "list_senti_en = list()\n",
    "for i in range(0,len(list_low_en)):\n",
    "    tweet_pred_en=list_low_en[i]\n",
    "    senti_en=predict_sentiment(tweet_pred_en, dict_sentiment_en_stem,stw_en,stemmer_en)\n",
    "    list_senti_en.append(max(senti_en.items(), key=operator.itemgetter(1))[0])\n",
    "    dict_id_sent_en = dict(zip(list_good_id_en,list_senti_en))"
   ]
  },
  {
   "cell_type": "code",
   "execution_count": 94,
   "metadata": {},
   "outputs": [],
   "source": [
    "#dict_id_sent_en"
   ]
  },
  {
   "cell_type": "code",
   "execution_count": 95,
   "metadata": {},
   "outputs": [],
   "source": [
    "list_senti_ru = list()\n",
    "for i in range(0,len(list_low_ru)):\n",
    "    tweet_pred_ru=list_low_ru[i]\n",
    "    senti_ru=predict_sentiment(tweet_pred_ru, dict_sentiment_ru_stem,stw_ru,stemmer_ru)\n",
    "    list_senti_ru.append(max(senti_ru.items(), key=operator.itemgetter(1))[0])\n",
    "    dict_id_sent_ru = dict(zip(list_good_id_ru,list_senti_ru))"
   ]
  },
  {
   "cell_type": "code",
   "execution_count": 96,
   "metadata": {},
   "outputs": [],
   "source": [
    "list_sent_pred = list()\n",
    "for e in dict_id_sent_en.values():\n",
    "    list_sent_pred.append(e)"
   ]
  },
  {
   "cell_type": "code",
   "execution_count": 97,
   "metadata": {},
   "outputs": [],
   "source": [
    "list_sent_pred_ru = list()\n",
    "for e in dict_id_sent_ru.values():\n",
    "    list_sent_pred_ru.append(e)"
   ]
  },
  {
   "cell_type": "code",
   "execution_count": 98,
   "metadata": {},
   "outputs": [],
   "source": [
    "lat_en = []\n",
    "lon_en = []\n",
    "for i in range(0, len(coord_en)):\n",
    "    lon_en.append(coord_en[i][1])\n",
    "    lat_en.append(coord_en[i][0])\n",
    "\n",
    "df_lat_en = pd.DataFrame({'Lat': lat_en})\n",
    "df_lon_en = pd.DataFrame({'Lon': lon_en})\n",
    "result_en = pd.concat([df_lat_en, df_lon_en], axis = 1)"
   ]
  },
  {
   "cell_type": "code",
   "execution_count": 99,
   "metadata": {},
   "outputs": [],
   "source": [
    "lat_ru = []\n",
    "lon_ru = []\n",
    "for i in range(0, len(coord_ru)):\n",
    "    lon_ru.append(coord_ru[i][1])\n",
    "    lat_ru.append(coord_ru[i][0])\n",
    "\n",
    "df_lat_ru = pd.DataFrame({'Lat': lat_ru})\n",
    "df_lon_ru = pd.DataFrame({'Lon': lon_ru})\n",
    "result_ru = pd.concat([df_lat_ru, df_lon_ru], axis = 1)"
   ]
  },
  {
   "cell_type": "code",
   "execution_count": 100,
   "metadata": {},
   "outputs": [
    {
     "data": {
      "text/plain": [
       "2365"
      ]
     },
     "execution_count": 100,
     "metadata": {},
     "output_type": "execute_result"
    }
   ],
   "source": [
    "len(coord_en)"
   ]
  },
  {
   "cell_type": "code",
   "execution_count": 101,
   "metadata": {},
   "outputs": [
    {
     "data": {
      "text/plain": [
       "8957"
      ]
     },
     "execution_count": 101,
     "metadata": {},
     "output_type": "execute_result"
    }
   ],
   "source": [
    "len(coord_ru)"
   ]
  },
  {
   "cell_type": "code",
   "execution_count": 102,
   "metadata": {},
   "outputs": [],
   "source": [
    "result_en.to_csv(\"gps_fifa.csv\")"
   ]
  },
  {
   "cell_type": "code",
   "execution_count": 103,
   "metadata": {},
   "outputs": [],
   "source": [
    "result_ru.to_csv(\"gps_fifa_ru.csv\")"
   ]
  },
  {
   "cell_type": "code",
   "execution_count": 104,
   "metadata": {},
   "outputs": [],
   "source": [
    "gps_en = []\n",
    "for i in range(0,len(result_en)):   \n",
    "    gps_en.append([result_en.Lat[i], result_en.Lon[i]])"
   ]
  },
  {
   "cell_type": "code",
   "execution_count": 105,
   "metadata": {},
   "outputs": [],
   "source": [
    "gps_ru = []\n",
    "for i in range(0,len(result_ru)):   \n",
    "    gps_ru.append([result_ru.Lat[i], result_ru.Lon[i]])"
   ]
  },
  {
   "cell_type": "code",
   "execution_count": 106,
   "metadata": {},
   "outputs": [],
   "source": [
    "color_sent = []\n",
    "def color_map(sentiment):\n",
    "    for i in range(len(sentiment)):\n",
    "        if sentiment[i] == \"neutral\":\n",
    "            color_sent.append(str(\"grey\"))\n",
    "        elif sentiment[i] == \"joy\":\n",
    "            color_sent.append(str(\"orange\"))\n",
    "        elif sentiment[i] == \"anger\":\n",
    "            color_sent.append(str(\"crimson\"))\n",
    "        elif sentiment[i] == \"love\":\n",
    "            color_sent.append(str(\"red\"))\n",
    "        elif sentiment[i] == \"sadness\":\n",
    "            color_sent.append(str(\"black\"))\n",
    "        elif sentiment[i] == \"hope\":\n",
    "            color_sent.append(str(\"yellow\"))  \n",
    "        elif sentiment[i] == \"joy/hope\":\n",
    "            color_sent.append(str(\"green\")) \n",
    "        elif sentiment[i] == \"love/sadness\":\n",
    "            color_sent.append(str(\"purple\")) \n",
    "    return color_sent"
   ]
  },
  {
   "cell_type": "code",
   "execution_count": 107,
   "metadata": {},
   "outputs": [],
   "source": [
    "color = color_map(list_sent_pred)\n",
    "color_ru = color_map(list_sent_pred_ru)"
   ]
  },
  {
   "cell_type": "code",
   "execution_count": null,
   "metadata": {},
   "outputs": [],
   "source": []
  },
  {
   "cell_type": "code",
   "execution_count": 108,
   "metadata": {},
   "outputs": [],
   "source": [
    "mapit = None\n",
    "fond = r'http://{s}.basemaps.cartocdn.com/light_all/{z}/{x}/{y}.png'\n",
    "mapit = folium.Map(location=[59.9386300,30.3141300], zoom_start=6, tiles=fond, attr='Â© OpenStreetMap Â© CartoDB')\n",
    "\n",
    "for i in range(len(gps_en)):\n",
    "    \n",
    "    folium.CircleMarker( location=[ gps_en[i][0], gps_en[i][1] ], radius = 4,  color = color[i], fill = True, fill_color = color[i]).add_to( mapit )"
   ]
  },
  {
   "cell_type": "code",
   "execution_count": 109,
   "metadata": {},
   "outputs": [],
   "source": [
    "mapit.save(\"map3.html\")"
   ]
  },
  {
   "cell_type": "code",
   "execution_count": null,
   "metadata": {},
   "outputs": [],
   "source": []
  },
  {
   "cell_type": "code",
   "execution_count": null,
   "metadata": {},
   "outputs": [],
   "source": []
  },
  {
   "cell_type": "code",
   "execution_count": 153,
   "metadata": {},
   "outputs": [
    {
     "data": {
      "text/plain": [
       "'Thu Jun 14 11:46:36 +0000 2018'"
      ]
     },
     "execution_count": 153,
     "metadata": {},
     "output_type": "execute_result"
    }
   ],
   "source": [
    "tweets[1][\"created_at\"]"
   ]
  },
  {
   "cell_type": "code",
   "execution_count": null,
   "metadata": {},
   "outputs": [],
   "source": []
  },
  {
   "cell_type": "code",
   "execution_count": null,
   "metadata": {},
   "outputs": [],
   "source": []
  },
  {
   "cell_type": "code",
   "execution_count": null,
   "metadata": {},
   "outputs": [],
   "source": []
  },
  {
   "cell_type": "code",
   "execution_count": 110,
   "metadata": {},
   "outputs": [],
   "source": [
    "mapit = None\n",
    "fond = r'http://{s}.basemaps.cartocdn.com/light_all/{z}/{x}/{y}.png'\n",
    "mapit = folium.Map(location=[59.9386300,30.3141300], zoom_start=6, tiles=fond, attr='Â© OpenStreetMap Â© CartoDB')\n",
    "\n",
    "for i in range(len(gps_ru)):\n",
    "    \n",
    "    folium.CircleMarker( location=[ gps_ru[i][0], gps_ru[i][1] ], radius = 4,  color = color_ru[i], fill = True, fill_color = color_ru[i]).add_to( mapit )"
   ]
  },
  {
   "cell_type": "code",
   "execution_count": 111,
   "metadata": {},
   "outputs": [],
   "source": [
    "mapit.save(\"map_ru.html\")"
   ]
  },
  {
   "cell_type": "code",
   "execution_count": null,
   "metadata": {},
   "outputs": [],
   "source": []
  }
 ],
 "metadata": {
  "kernelspec": {
   "display_name": "Python 3",
   "language": "python",
   "name": "python3"
  },
  "language_info": {
   "codemirror_mode": {
    "name": "ipython",
    "version": 3
   },
   "file_extension": ".py",
   "mimetype": "text/x-python",
   "name": "python",
   "nbconvert_exporter": "python",
   "pygments_lexer": "ipython3",
   "version": "3.5.6"
  }
 },
 "nbformat": 4,
 "nbformat_minor": 2
}
